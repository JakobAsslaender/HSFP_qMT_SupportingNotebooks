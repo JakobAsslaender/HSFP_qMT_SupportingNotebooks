{
 "cells": [
  {
   "attachments": {},
   "cell_type": "markdown",
   "metadata": {},
   "source": [
    "# Cramer-Rao Bound of the Selective Inversion Recovery Method\n",
    "This notebook replicates 5<sup>th</sup> column of Tab. 1 in the paper [Rapid quantitative magnetization transfer imaging: utilizing the hybrid state and the generalized Bloch model](https://doi.org/10.48550/arXiv.2207.08259), i.e. it calculates the Cramer-Rao bound (CRB) of the selective inversion recovery (SIR) method with a turbo-spin-echo readout as described by [Dortch et al.](https://doi.org/10.1002/mrm.22928) and [Cronin et al.](https://doi.org/10.1016/j.mri.2020.01.014)\n",
    "\n",
    "First, we load all required packages:"
   ]
  },
  {
   "cell_type": "code",
   "execution_count": 1,
   "metadata": {},
   "outputs": [],
   "source": [
    "using MRIgeneralizedBloch\n",
    "using MRIgeneralizedBloch: propagator_linear_inversion_pulse, xs_destructor\n",
    "using LinearAlgebra\n",
    "using StaticArrays"
   ]
  },
  {
   "attachments": {},
   "cell_type": "markdown",
   "metadata": {},
   "source": [
    "Define the point in parameter space at which the CRB will be calculated:"
   ]
  },
  {
   "cell_type": "code",
   "execution_count": 2,
   "metadata": {},
   "outputs": [],
   "source": [
    "m0s = 0.1\n",
    "R1a = 0.625 # 1/s\n",
    "R1f = R1a   # 1/s\n",
    "R1s = R1a   # 1/s\n",
    "R2f = 15    # 1/s\n",
    "Rx  = 30    # 1/s\n",
    "T2s = 10e-6 # s\n",
    "R2slT = precompute_R2sl()\n",
    "\n",
    "ω0 = 0    # rad/s\n",
    "B1 = 1;   # in units of B1_nominal"
   ]
  },
  {
   "attachments": {},
   "cell_type": "markdown",
   "metadata": {},
   "source": [
    "The following cell defines the function that simulates the SIR signal for a given delay time `TD` and inversion time `TI` (cf. [Dortch et al.](https://doi.org/10.1002/mrm.22928) for details). In this simulation, we ignore the $B_1$-dependence of the semi-solid spin pool, which is achieved by the line `u_ip[9:10,4:5] .= 0`. Comment out this line to calculate the CRB while accounting for this dependence. Beware, though, of numerical instabilities at `B1 = 1` that might lead to large negative CRB values. Choose a different $B_1$ value in the cell above for more meaningful CRB values while accounting for this dependency. "
   ]
  },
  {
   "cell_type": "code",
   "execution_count": 3,
   "metadata": {},
   "outputs": [],
   "source": [
    "function simulate_SIR(TD, TI)\n",
    "    _m0 = @SVector [0, 0, 0, 0, 0, 0, 0, 0, 0, 0, 1]\n",
    "\n",
    "    J = Vector{Float64}(undef, length(grad_list)+1)\n",
    "\n",
    "    R2sl_inv = R2slT[1](TRF, π, B1, T2s)\n",
    "    dR2sldT2s_inv = R2slT[2](TRF, π, B1, T2s)\n",
    "    dR2sldB1_inv  = R2slT[3](TRF, π, B1, T2s)\n",
    "    for j ∈ eachindex(grad_list)\n",
    "        u_td = exp(hamiltonian_linear(0, B1, ω0, TD - TRF/2, m0s, R1f, R2f, Rx, R1s, 0, 0, 0, grad_list[j]))\n",
    "        u_ip = propagator_linear_inversion_pulse(π/TRF, TRF, B1, R2sl_inv, dR2sldT2s_inv, dR2sldB1_inv, grad_list[j])\n",
    "\n",
    "        u_ip = Matrix(u_ip)\n",
    "        u_ip[9:10,4:5] .= 0 # remove B1-dependence of the semi-solid spin pool\n",
    "\n",
    "        u_xs = xs_destructor(grad_list[j])\n",
    "        u_ir = exp(hamiltonian_linear(0, B1, ω0, TI - TRF/2, m0s, R1f, R2f, Rx, R1s, 0, 0, 0, grad_list[j]))\n",
    "        m = u_ir * (u_xs * (u_ip * (u_td * _m0)))\n",
    "        J[1]   = m[3] # z-magnetization right before the excitation pulse\n",
    "        J[j+1] = m[8] # its derivate wrt. grad_list[j]\n",
    "    end\n",
    "    return J\n",
    "end;"
   ]
  },
  {
   "attachments": {},
   "cell_type": "markdown",
   "metadata": {},
   "source": [
    "Define the sequence settings according to [Dortch et al.](https://doi.org/10.1002/mrm.22928):"
   ]
  },
  {
   "cell_type": "code",
   "execution_count": 4,
   "metadata": {},
   "outputs": [],
   "source": [
    "TRF = 1e-3; # duration of inversion pulse in s\n",
    "TI = [  10,   50,   56,  277, 843] .* 1e-3  # inversion times in s\n",
    "TD = [3270, 4489, 1652, 2922,  10] .* 1e-3; # delay times in s"
   ]
  },
  {
   "attachments": {},
   "cell_type": "markdown",
   "metadata": {},
   "source": [
    "Define the gradients that are accounted for in the CRB calculation:"
   ]
  },
  {
   "cell_type": "code",
   "execution_count": 5,
   "metadata": {},
   "outputs": [],
   "source": [
    "grad_list = [grad_m0s(), grad_R1a(), grad_Rx(), grad_B1()];"
   ]
  },
  {
   "attachments": {},
   "cell_type": "markdown",
   "metadata": {},
   "source": [
    "Calculate the Jacobian matrix and the CRB values of all considered parameters:"
   ]
  },
  {
   "cell_type": "code",
   "execution_count": 6,
   "metadata": {},
   "outputs": [],
   "source": [
    "J = Matrix{Float64}(undef, length(TI), length(grad_list)+1)\n",
    "for i ∈ eachindex(TI, TD)\n",
    "    J[i,:] .= simulate_SIR(TD[i], TI[i])\n",
    "end\n",
    "CRB = diag(inv(J' * J));"
   ]
  },
  {
   "attachments": {},
   "cell_type": "markdown",
   "metadata": {},
   "source": [
    "The following cell normalizes the CRB values by the scan time. Like for the other cases in Tab. 1, we consider each k-space line as a single data point with unit noise variance (this is equivalent to a normalization with the noise variance). "
   ]
  },
  {
   "cell_type": "code",
   "execution_count": 7,
   "metadata": {},
   "outputs": [],
   "source": [
    "Nlines_per_shots = 22 # phase encoding\n",
    "EchoSpacing = 5.9e-3  # s\n",
    "T_RO = Nlines_per_shots * EchoSpacing # readout time in s\n",
    "CRB .*= (sum(TD) + sum(TI) + length(TI) * T_RO) ./ Nlines_per_shots;"
   ]
  },
  {
   "attachments": {},
   "cell_type": "markdown",
   "metadata": {},
   "source": [
    "Normalized CRB of $m_0^s$ in seconds:"
   ]
  },
  {
   "cell_type": "code",
   "execution_count": 8,
   "metadata": {},
   "outputs": [
    {
     "data": {
      "text/plain": [
       "169.61697239948023"
      ]
     },
     "metadata": {},
     "output_type": "display_data"
    }
   ],
   "source": [
    "CRB[2]/m0s^2"
   ]
  },
  {
   "attachments": {},
   "cell_type": "markdown",
   "metadata": {},
   "source": [
    "Normalized CRB of $R_1^f$ in seconds:"
   ]
  },
  {
   "cell_type": "code",
   "execution_count": 9,
   "metadata": {},
   "outputs": [
    {
     "data": {
      "text/plain": [
       "25.558010375815314"
      ]
     },
     "metadata": {},
     "output_type": "display_data"
    }
   ],
   "source": [
    "CRB[3]/R1f^2\n"
   ]
  },
  {
   "attachments": {},
   "cell_type": "markdown",
   "metadata": {},
   "source": [
    "Normalized CRB of $M_0$ in seconds:"
   ]
  },
  {
   "cell_type": "code",
   "execution_count": 10,
   "metadata": {},
   "outputs": [
    {
     "data": {
      "text/plain": [
       "22.074108948862666"
      ]
     },
     "metadata": {},
     "output_type": "display_data"
    }
   ],
   "source": [
    "CRB[1]\n"
   ]
  },
  {
   "attachments": {},
   "cell_type": "markdown",
   "metadata": {},
   "source": [
    "Normalized CRB of $R_x$ in seconds:"
   ]
  },
  {
   "cell_type": "code",
   "execution_count": 11,
   "metadata": {},
   "outputs": [
    {
     "data": {
      "text/plain": [
       "1047.7250000622794"
      ]
     },
     "metadata": {},
     "output_type": "display_data"
    }
   ],
   "source": [
    "CRB[4]/Rx^2\n"
   ]
  },
  {
   "attachments": {},
   "cell_type": "markdown",
   "metadata": {},
   "source": [
    "Normalized CRB of $B_1$ in seconds:"
   ]
  },
  {
   "cell_type": "code",
   "execution_count": 12,
   "metadata": {},
   "outputs": [
    {
     "data": {
      "text/plain": [
       "9.4597855622584e31"
      ]
     },
     "metadata": {},
     "output_type": "display_data"
    }
   ],
   "source": [
    "CRB[5]/B1^2"
   ]
  }
 ],
 "metadata": {
  "kernelspec": {
   "display_name": "Julia 1.8.3",
   "language": "julia",
   "name": "julia-1.8"
  },
  "language_info": {
   "file_extension": ".jl",
   "mimetype": "application/julia",
   "name": "julia",
   "version": "1.8.3"
  },
  "orig_nbformat": 4
 },
 "nbformat": 4,
 "nbformat_minor": 2
}
