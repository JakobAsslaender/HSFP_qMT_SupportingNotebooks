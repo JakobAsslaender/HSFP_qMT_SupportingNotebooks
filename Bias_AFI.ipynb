{
 "cells": [
  {
   "attachments": {},
   "cell_type": "markdown",
   "metadata": {},
   "source": [
    "# MT Bias Estimation of the Actual Flip Angle $B_1$-Mapping Method\n",
    "This notebooks estimates the bias of $B_1$ caused by the magnetization transfer effect in the [actual flip angle method](https://doi.org/10.1002/mrm.21120). \n",
    "\n",
    "First, we load all required packages:"
   ]
  },
  {
   "cell_type": "code",
   "execution_count": 1,
   "metadata": {},
   "outputs": [],
   "source": [
    "using MRIgeneralizedBloch\n",
    "using StaticArrays"
   ]
  },
  {
   "attachments": {},
   "cell_type": "markdown",
   "metadata": {},
   "source": [
    "Define the point in parameter space at which the bias will be calculated:"
   ]
  },
  {
   "cell_type": "code",
   "execution_count": 2,
   "metadata": {},
   "outputs": [],
   "source": [
    "m0s = 0.1\n",
    "R1a = 0.625 # 1/s\n",
    "R1f = R1a   # 1/s\n",
    "R1s = R1a   # 1/s\n",
    "R2f = 15    # 1/s\n",
    "Rx  = 30    # 1/s\n",
    "T2s = 10e-6 # s\n",
    "R2slT = precompute_R2sl()\n",
    "ω0 = 0      # rad/s\n",
    "B1 = 1;     # in units of B1_nominal"
   ]
  },
  {
   "attachments": {},
   "cell_type": "markdown",
   "metadata": {},
   "source": [
    "In the following cell, we define the sequence parameters as suggested in [Yarnykh 2016](https://doi.org/10.1002/mrm.25811). Replace with `TR1 = 20e-3` and `TR2 = 100e-3` to replicate the settings in [Yarnykh's original AFI publication](https://doi.org/10.1002/mrm.21120) or to `TR1 = 30e-3` and `TR2 = 150e-3` to replicate the settings [Yarnykh 2012](https://doi.org/10.1002/mrm.23224). "
   ]
  },
  {
   "cell_type": "code",
   "execution_count": 3,
   "metadata": {},
   "outputs": [],
   "source": [
    "α_nom = 60 * pi/180\n",
    "TRF = 0.4e-3 # s\n",
    "\n",
    "TR1 = 40e-3  # s\n",
    "TR2 = 160e-3; # s"
   ]
  },
  {
   "attachments": {},
   "cell_type": "markdown",
   "metadata": {},
   "source": [
    "Simulate the steady state magnetization in each $T_R$. This is done calculating the propagator matrices `u_sp` for the (perfect) spoiler, `u_exc` for the excitation pulse, and `u_TR1` and `u_TR2` for free precession during respective $T_R$:"
   ]
  },
  {
   "cell_type": "code",
   "execution_count": 4,
   "metadata": {},
   "outputs": [],
   "source": [
    "R2sl = R2slT[1](TRF, α_nom, B1, T2s)\n",
    "u_sp =\n",
    "    @SMatrix [\n",
    "        0 0 0 0 0 0;\n",
    "        0 0 0 0 0 0;\n",
    "        0 0 1 0 0 0;\n",
    "        0 0 0 0 0 0;\n",
    "        0 0 0 0 1 0;\n",
    "        0 0 0 0 0 1]\n",
    "\n",
    "u_exc = exp(hamiltonian_linear(α_nom/TRF, B1, ω0,   TRF, m0s, R1f, R2f, Rx, R1s, R2sl))\n",
    "u_TR1 = exp(hamiltonian_linear(0, B1, ω0, TR1 - TRF, m0s, R1f, R2f, Rx, R1s, R2sl))\n",
    "u_TR2 = exp(hamiltonian_linear(0, B1, ω0, TR2 - TRF, m0s, R1f, R2f, Rx, R1s, R2sl));"
   ]
  },
  {
   "attachments": {},
   "cell_type": "markdown",
   "metadata": {},
   "source": [
    "The steady state magnetization is is given by solving the linear equation $m_{ss} = U m_{ss}$ or, more precisely, by solving $U m_{ss} - A_0 m_{ss} = C$, where $A_0$ is a unity matrix modified to have `0` as the last diagonal matrix and $C$ is a zero vector modified to have `1` as the last entry. "
   ]
  },
  {
   "cell_type": "code",
   "execution_count": 5,
   "metadata": {},
   "outputs": [],
   "source": [
    "U =  u_exc * u_sp * u_TR2 * u_exc * u_sp * u_TR1\n",
    "Q = U - MRIgeneralizedBloch.A0(nothing)\n",
    "m1 = Q \\ MRIgeneralizedBloch.C(nothing)\n",
    "\n",
    "U =  u_exc * u_sp * u_TR1 * u_exc * u_sp * u_TR2\n",
    "Q = U - MRIgeneralizedBloch.A0(nothing)\n",
    "m2 = Q \\ MRIgeneralizedBloch.C(nothing);"
   ]
  },
  {
   "attachments": {},
   "cell_type": "markdown",
   "metadata": {},
   "source": [
    "Given the magnetization, we can estimate the flip angle `α_est` according to [Yarnykh's original AFI publication](https://doi.org/10.1002/mrm.21120):"
   ]
  },
  {
   "cell_type": "code",
   "execution_count": 6,
   "metadata": {},
   "outputs": [
    {
     "data": {
      "text/plain": [
       "1.0183755610699896"
      ]
     },
     "metadata": {},
     "output_type": "display_data"
    }
   ],
   "source": [
    "n = TR2/TR1\n",
    "r = m2[1] / m1[1]\n",
    "α_est = acos((r*n - 1) / (n - r))"
   ]
  },
  {
   "attachments": {},
   "cell_type": "markdown",
   "metadata": {},
   "source": [
    "And calculate the deviations from the nominal flip angle:"
   ]
  },
  {
   "cell_type": "code",
   "execution_count": 7,
   "metadata": {},
   "outputs": [
    {
     "data": {
      "text/plain": [
       "0.02752297319037278"
      ]
     },
     "metadata": {},
     "output_type": "display_data"
    }
   ],
   "source": [
    "1 - α_est / (B1 * α_nom)"
   ]
  }
 ],
 "metadata": {
  "kernelspec": {
   "display_name": "Julia 1.8.3",
   "language": "julia",
   "name": "julia-1.8"
  },
  "language_info": {
   "file_extension": ".jl",
   "mimetype": "application/julia",
   "name": "julia",
   "version": "1.8.3"
  },
  "orig_nbformat": 4
 },
 "nbformat": 4,
 "nbformat_minor": 2
}
