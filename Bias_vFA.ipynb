{
 "cells": [
  {
   "attachments": {},
   "cell_type": "markdown",
   "metadata": {},
   "source": [
    "# MT Bias Estimation of the variable Flip Angle $T_1$-Mapping Method\n",
    "This notebooks estimates the bias of $T_1$ caused by the magnetization transfer effect in the variable flip angle method. \n",
    "\n",
    "First, we load all required packages:"
   ]
  },
  {
   "cell_type": "code",
   "execution_count": 12,
   "metadata": {},
   "outputs": [],
   "source": [
    "using MRIgeneralizedBloch\n",
    "using StaticArrays"
   ]
  },
  {
   "attachments": {},
   "cell_type": "markdown",
   "metadata": {},
   "source": [
    "Define the point in parameter space at which the bias will be calculated:"
   ]
  },
  {
   "cell_type": "code",
   "execution_count": 13,
   "metadata": {},
   "outputs": [],
   "source": [
    "m0s = 0.1\n",
    "R1a = 0.625 # 1/s\n",
    "R1f = R1a   # 1/s\n",
    "R1s = R1a   # 1/s\n",
    "R2f = 15    # 1/s\n",
    "Rx  = 30    # 1/s\n",
    "T2s = 10e-6 # s\n",
    "R2slT = precompute_R2sl()\n",
    "ω0 = 0      # rad/s\n",
    "B1 = 1;     # in units of B1_nominal"
   ]
  },
  {
   "attachments": {},
   "cell_type": "markdown",
   "metadata": {},
   "source": [
    "In the following cell, we define the sequence parameters as suggested in [Yarnykh 2016](https://doi.org/10.1002/mrm.25811) and start with the first flip angle of 4deg."
   ]
  },
  {
   "cell_type": "code",
   "execution_count": 14,
   "metadata": {},
   "outputs": [],
   "source": [
    "α1 = 4 * π/180\n",
    "TRF = 1e-3 # s\n",
    "TR = 21e-3;    # s"
   ]
  },
  {
   "attachments": {},
   "cell_type": "markdown",
   "metadata": {},
   "source": [
    "To simulate the steady state magnetization, we calculate the propagator matrices `u_sp` for the (perfect) spoiler, `u_exc` for the excitation pulse, and `u_fp` for free precession:"
   ]
  },
  {
   "cell_type": "code",
   "execution_count": 15,
   "metadata": {},
   "outputs": [],
   "source": [
    "R2sl = R2slT[1](TRF, α1, B1, T2s)\n",
    "u_sp =\n",
    "    @SMatrix [\n",
    "        0 0 0 0 0 0;\n",
    "        0 0 0 0 0 0;\n",
    "        0 0 1 0 0 0;\n",
    "        0 0 0 0 0 0;\n",
    "        0 0 0 0 1 0;\n",
    "        0 0 0 0 0 1]\n",
    "\n",
    "u_exc = exp(hamiltonian_linear(α1/TRF, B1, ω0, TRF, m0s, R1f, R2f, Rx, R1s, R2sl))\n",
    "u_fp  = exp(hamiltonian_linear(0, B1, ω0, TR - TRF, m0s, R1f, R2f, Rx, R1s, R2sl));"
   ]
  },
  {
   "attachments": {},
   "cell_type": "markdown",
   "metadata": {},
   "source": [
    "The steady state magnetization is is given by solving the linear equation $m_{ss} = U m_{ss}$ or, more precisely, by solving $U m_{ss} - A_0 m_{ss} = C$, where $A_0$ is a unity matrix modified to have `0` as the last diagonal matrix and $C$ is a zero vector modified to have `1` as the last entry. "
   ]
  },
  {
   "cell_type": "code",
   "execution_count": 16,
   "metadata": {},
   "outputs": [],
   "source": [
    "U =  u_exc * u_sp * u_fp\n",
    "Q = U - MRIgeneralizedBloch.A0(nothing)\n",
    "m1 = Q \\ MRIgeneralizedBloch.C(nothing);"
   ]
  },
  {
   "attachments": {},
   "cell_type": "markdown",
   "metadata": {},
   "source": [
    "We repeat the same simulation for a flip angle of 25deg:"
   ]
  },
  {
   "cell_type": "code",
   "execution_count": 17,
   "metadata": {},
   "outputs": [],
   "source": [
    "α2 = 25 * π/180\n",
    "R2sl = R2slT[1](TRF, α2, B1, T2s)\n",
    "\n",
    "u_exc = exp(hamiltonian_linear(α2/TRF, B1, ω0,  TRF, m0s, R1f, R2f, Rx, R1s, R2sl))\n",
    "u_fp  = exp(hamiltonian_linear(0, B1, ω0,  TR - TRF, m0s, R1f, R2f, Rx, R1s, R2sl))\n",
    "U =  u_exc * u_sp * u_fp\n",
    "Q = U - MRIgeneralizedBloch.A0(nothing)\n",
    "m2 = Q \\ MRIgeneralizedBloch.C(nothing);"
   ]
  },
  {
   "attachments": {},
   "cell_type": "markdown",
   "metadata": {},
   "source": [
    "And estimate the apparent longitudinal relaxation rate $R_1^a$:"
   ]
  },
  {
   "cell_type": "code",
   "execution_count": 18,
   "metadata": {},
   "outputs": [
    {
     "data": {
      "text/plain": [
       "0.6864117207059647"
      ]
     },
     "metadata": {},
     "output_type": "display_data"
    }
   ],
   "source": [
    "ρ = m2[1] / m1[1]\n",
    "fρ = (ρ * sin(α1) * cos(α2) - cos(α1) * sin(α2)) / (ρ * sin(α1) - sin(α2))\n",
    "R1a_est = log(fρ) / TR"
   ]
  },
  {
   "attachments": {},
   "cell_type": "markdown",
   "metadata": {},
   "source": [
    "Which we can compare to the actual apparent relaxation rate $R_1^a$:"
   ]
  },
  {
   "cell_type": "code",
   "execution_count": 19,
   "metadata": {},
   "outputs": [
    {
     "data": {
      "text/plain": [
       "0.09825875312954357"
      ]
     },
     "metadata": {},
     "output_type": "display_data"
    }
   ],
   "source": [
    "R1a_est / R1a - 1"
   ]
  }
 ],
 "metadata": {
  "kernelspec": {
   "display_name": "Julia 1.8.3",
   "language": "julia",
   "name": "julia-1.8"
  },
  "language_info": {
   "file_extension": ".jl",
   "mimetype": "application/julia",
   "name": "julia",
   "version": "1.8.3"
  },
  "orig_nbformat": 4
 },
 "nbformat": 4,
 "nbformat_minor": 2
}
